{
  "nbformat": 4,
  "nbformat_minor": 0,
  "metadata": {
    "colab": {
      "provenance": []
    },
    "kernelspec": {
      "name": "python3",
      "display_name": "Python 3"
    },
    "language_info": {
      "name": "python"
    }
  },
  "cells": [
    {
      "cell_type": "code",
      "execution_count": null,
      "metadata": {
        "colab": {
          "base_uri": "https://localhost:8080/"
        },
        "id": "OQ-gO05hFeKb",
        "outputId": "4860b17c-8163-4d36-def7-e2b5c0d7b5dc"
      },
      "outputs": [
        {
          "output_type": "stream",
          "name": "stdout",
          "text": [
            "Collecting langchain\n",
            "  Downloading langchain-0.0.306-py3-none-any.whl (1.8 MB)\n",
            "\u001b[2K     \u001b[90m━━━━━━━━━━━━━━━━━━━━━━━━━━━━━━━━━━━━━━━━\u001b[0m \u001b[32m1.8/1.8 MB\u001b[0m \u001b[31m18.6 MB/s\u001b[0m eta \u001b[36m0:00:00\u001b[0m\n",
            "\u001b[?25hRequirement already satisfied: PyYAML>=5.3 in /usr/local/lib/python3.10/dist-packages (from langchain) (6.0.1)\n",
            "Requirement already satisfied: SQLAlchemy<3,>=1.4 in /usr/local/lib/python3.10/dist-packages (from langchain) (2.0.21)\n",
            "Requirement already satisfied: aiohttp<4.0.0,>=3.8.3 in /usr/local/lib/python3.10/dist-packages (from langchain) (3.8.5)\n",
            "Requirement already satisfied: anyio<4.0 in /usr/local/lib/python3.10/dist-packages (from langchain) (3.7.1)\n",
            "Requirement already satisfied: async-timeout<5.0.0,>=4.0.0 in /usr/local/lib/python3.10/dist-packages (from langchain) (4.0.3)\n",
            "Collecting dataclasses-json<0.7,>=0.5.7 (from langchain)\n",
            "  Downloading dataclasses_json-0.6.1-py3-none-any.whl (27 kB)\n",
            "Collecting jsonpatch<2.0,>=1.33 (from langchain)\n",
            "  Downloading jsonpatch-1.33-py2.py3-none-any.whl (12 kB)\n",
            "Collecting langsmith<0.1.0,>=0.0.38 (from langchain)\n",
            "  Downloading langsmith-0.0.41-py3-none-any.whl (39 kB)\n",
            "Requirement already satisfied: numexpr<3.0.0,>=2.8.4 in /usr/local/lib/python3.10/dist-packages (from langchain) (2.8.7)\n",
            "Requirement already satisfied: numpy<2,>=1 in /usr/local/lib/python3.10/dist-packages (from langchain) (1.23.5)\n",
            "Requirement already satisfied: pydantic<3,>=1 in /usr/local/lib/python3.10/dist-packages (from langchain) (1.10.13)\n",
            "Requirement already satisfied: requests<3,>=2 in /usr/local/lib/python3.10/dist-packages (from langchain) (2.31.0)\n",
            "Requirement already satisfied: tenacity<9.0.0,>=8.1.0 in /usr/local/lib/python3.10/dist-packages (from langchain) (8.2.3)\n",
            "Requirement already satisfied: attrs>=17.3.0 in /usr/local/lib/python3.10/dist-packages (from aiohttp<4.0.0,>=3.8.3->langchain) (23.1.0)\n",
            "Requirement already satisfied: charset-normalizer<4.0,>=2.0 in /usr/local/lib/python3.10/dist-packages (from aiohttp<4.0.0,>=3.8.3->langchain) (3.2.0)\n",
            "Requirement already satisfied: multidict<7.0,>=4.5 in /usr/local/lib/python3.10/dist-packages (from aiohttp<4.0.0,>=3.8.3->langchain) (6.0.4)\n",
            "Requirement already satisfied: yarl<2.0,>=1.0 in /usr/local/lib/python3.10/dist-packages (from aiohttp<4.0.0,>=3.8.3->langchain) (1.9.2)\n",
            "Requirement already satisfied: frozenlist>=1.1.1 in /usr/local/lib/python3.10/dist-packages (from aiohttp<4.0.0,>=3.8.3->langchain) (1.4.0)\n",
            "Requirement already satisfied: aiosignal>=1.1.2 in /usr/local/lib/python3.10/dist-packages (from aiohttp<4.0.0,>=3.8.3->langchain) (1.3.1)\n",
            "Requirement already satisfied: idna>=2.8 in /usr/local/lib/python3.10/dist-packages (from anyio<4.0->langchain) (3.4)\n",
            "Requirement already satisfied: sniffio>=1.1 in /usr/local/lib/python3.10/dist-packages (from anyio<4.0->langchain) (1.3.0)\n",
            "Requirement already satisfied: exceptiongroup in /usr/local/lib/python3.10/dist-packages (from anyio<4.0->langchain) (1.1.3)\n",
            "Collecting marshmallow<4.0.0,>=3.18.0 (from dataclasses-json<0.7,>=0.5.7->langchain)\n",
            "  Downloading marshmallow-3.20.1-py3-none-any.whl (49 kB)\n",
            "\u001b[2K     \u001b[90m━━━━━━━━━━━━━━━━━━━━━━━━━━━━━━━━━━━━━━━━\u001b[0m \u001b[32m49.4/49.4 kB\u001b[0m \u001b[31m4.7 MB/s\u001b[0m eta \u001b[36m0:00:00\u001b[0m\n",
            "\u001b[?25hCollecting typing-inspect<1,>=0.4.0 (from dataclasses-json<0.7,>=0.5.7->langchain)\n",
            "  Downloading typing_inspect-0.9.0-py3-none-any.whl (8.8 kB)\n",
            "Collecting jsonpointer>=1.9 (from jsonpatch<2.0,>=1.33->langchain)\n",
            "  Downloading jsonpointer-2.4-py2.py3-none-any.whl (7.8 kB)\n",
            "Requirement already satisfied: typing-extensions>=4.2.0 in /usr/local/lib/python3.10/dist-packages (from pydantic<3,>=1->langchain) (4.5.0)\n",
            "Requirement already satisfied: urllib3<3,>=1.21.1 in /usr/local/lib/python3.10/dist-packages (from requests<3,>=2->langchain) (2.0.5)\n",
            "Requirement already satisfied: certifi>=2017.4.17 in /usr/local/lib/python3.10/dist-packages (from requests<3,>=2->langchain) (2023.7.22)\n",
            "Requirement already satisfied: greenlet!=0.4.17 in /usr/local/lib/python3.10/dist-packages (from SQLAlchemy<3,>=1.4->langchain) (2.0.2)\n",
            "Requirement already satisfied: packaging>=17.0 in /usr/local/lib/python3.10/dist-packages (from marshmallow<4.0.0,>=3.18.0->dataclasses-json<0.7,>=0.5.7->langchain) (23.1)\n",
            "Collecting mypy-extensions>=0.3.0 (from typing-inspect<1,>=0.4.0->dataclasses-json<0.7,>=0.5.7->langchain)\n",
            "  Downloading mypy_extensions-1.0.0-py3-none-any.whl (4.7 kB)\n",
            "Installing collected packages: mypy-extensions, marshmallow, jsonpointer, typing-inspect, langsmith, jsonpatch, dataclasses-json, langchain\n",
            "Successfully installed dataclasses-json-0.6.1 jsonpatch-1.33 jsonpointer-2.4 langchain-0.0.306 langsmith-0.0.41 marshmallow-3.20.1 mypy-extensions-1.0.0 typing-inspect-0.9.0\n",
            "Collecting faiss-cpu\n",
            "  Downloading faiss_cpu-1.7.4-cp310-cp310-manylinux_2_17_x86_64.manylinux2014_x86_64.whl (17.6 MB)\n",
            "\u001b[2K     \u001b[90m━━━━━━━━━━━━━━━━━━━━━━━━━━━━━━━━━━━━━━━━\u001b[0m \u001b[32m17.6/17.6 MB\u001b[0m \u001b[31m56.3 MB/s\u001b[0m eta \u001b[36m0:00:00\u001b[0m\n",
            "\u001b[?25hInstalling collected packages: faiss-cpu\n",
            "Successfully installed faiss-cpu-1.7.4\n",
            "Collecting openai\n",
            "  Downloading openai-0.28.1-py3-none-any.whl (76 kB)\n",
            "\u001b[2K     \u001b[90m━━━━━━━━━━━━━━━━━━━━━━━━━━━━━━━━━━━━━━━━\u001b[0m \u001b[32m77.0/77.0 kB\u001b[0m \u001b[31m1.5 MB/s\u001b[0m eta \u001b[36m0:00:00\u001b[0m\n",
            "\u001b[?25hRequirement already satisfied: requests>=2.20 in /usr/local/lib/python3.10/dist-packages (from openai) (2.31.0)\n",
            "Requirement already satisfied: tqdm in /usr/local/lib/python3.10/dist-packages (from openai) (4.66.1)\n",
            "Requirement already satisfied: aiohttp in /usr/local/lib/python3.10/dist-packages (from openai) (3.8.5)\n",
            "Requirement already satisfied: charset-normalizer<4,>=2 in /usr/local/lib/python3.10/dist-packages (from requests>=2.20->openai) (3.2.0)\n",
            "Requirement already satisfied: idna<4,>=2.5 in /usr/local/lib/python3.10/dist-packages (from requests>=2.20->openai) (3.4)\n",
            "Requirement already satisfied: urllib3<3,>=1.21.1 in /usr/local/lib/python3.10/dist-packages (from requests>=2.20->openai) (2.0.5)\n",
            "Requirement already satisfied: certifi>=2017.4.17 in /usr/local/lib/python3.10/dist-packages (from requests>=2.20->openai) (2023.7.22)\n",
            "Requirement already satisfied: attrs>=17.3.0 in /usr/local/lib/python3.10/dist-packages (from aiohttp->openai) (23.1.0)\n",
            "Requirement already satisfied: multidict<7.0,>=4.5 in /usr/local/lib/python3.10/dist-packages (from aiohttp->openai) (6.0.4)\n",
            "Requirement already satisfied: async-timeout<5.0,>=4.0.0a3 in /usr/local/lib/python3.10/dist-packages (from aiohttp->openai) (4.0.3)\n",
            "Requirement already satisfied: yarl<2.0,>=1.0 in /usr/local/lib/python3.10/dist-packages (from aiohttp->openai) (1.9.2)\n",
            "Requirement already satisfied: frozenlist>=1.1.1 in /usr/local/lib/python3.10/dist-packages (from aiohttp->openai) (1.4.0)\n",
            "Requirement already satisfied: aiosignal>=1.1.2 in /usr/local/lib/python3.10/dist-packages (from aiohttp->openai) (1.3.1)\n",
            "Installing collected packages: openai\n",
            "Successfully installed openai-0.28.1\n",
            "Collecting unstructured\n",
            "  Downloading unstructured-0.10.18-py3-none-any.whl (1.5 MB)\n",
            "\u001b[2K     \u001b[90m━━━━━━━━━━━━━━━━━━━━━━━━━━━━━━━━━━━━━━━━\u001b[0m \u001b[32m1.5/1.5 MB\u001b[0m \u001b[31m17.3 MB/s\u001b[0m eta \u001b[36m0:00:00\u001b[0m\n",
            "\u001b[?25hRequirement already satisfied: chardet in /usr/local/lib/python3.10/dist-packages (from unstructured) (5.2.0)\n",
            "Collecting filetype (from unstructured)\n",
            "  Downloading filetype-1.2.0-py2.py3-none-any.whl (19 kB)\n",
            "Collecting python-magic (from unstructured)\n",
            "  Downloading python_magic-0.4.27-py2.py3-none-any.whl (13 kB)\n",
            "Requirement already satisfied: lxml in /usr/local/lib/python3.10/dist-packages (from unstructured) (4.9.3)\n",
            "Requirement already satisfied: nltk in /usr/local/lib/python3.10/dist-packages (from unstructured) (3.8.1)\n",
            "Requirement already satisfied: tabulate in /usr/local/lib/python3.10/dist-packages (from unstructured) (0.9.0)\n",
            "Requirement already satisfied: requests in /usr/local/lib/python3.10/dist-packages (from unstructured) (2.31.0)\n",
            "Requirement already satisfied: beautifulsoup4 in /usr/local/lib/python3.10/dist-packages (from unstructured) (4.11.2)\n",
            "Collecting emoji (from unstructured)\n",
            "  Downloading emoji-2.8.0-py2.py3-none-any.whl (358 kB)\n",
            "\u001b[2K     \u001b[90m━━━━━━━━━━━━━━━━━━━━━━━━━━━━━━━━━━━━━━\u001b[0m \u001b[32m358.9/358.9 kB\u001b[0m \u001b[31m32.7 MB/s\u001b[0m eta \u001b[36m0:00:00\u001b[0m\n",
            "\u001b[?25hRequirement already satisfied: dataclasses-json in /usr/local/lib/python3.10/dist-packages (from unstructured) (0.6.1)\n",
            "Collecting python-iso639 (from unstructured)\n",
            "  Downloading python_iso639-2023.6.15-py3-none-any.whl (275 kB)\n",
            "\u001b[2K     \u001b[90m━━━━━━━━━━━━━━━━━━━━━━━━━━━━━━━━━━━━━━\u001b[0m \u001b[32m275.1/275.1 kB\u001b[0m \u001b[31m32.9 MB/s\u001b[0m eta \u001b[36m0:00:00\u001b[0m\n",
            "\u001b[?25hCollecting langdetect (from unstructured)\n",
            "  Downloading langdetect-1.0.9.tar.gz (981 kB)\n",
            "\u001b[2K     \u001b[90m━━━━━━━━━━━━━━━━━━━━━━━━━━━━━━━━━━━━━━\u001b[0m \u001b[32m981.5/981.5 kB\u001b[0m \u001b[31m63.6 MB/s\u001b[0m eta \u001b[36m0:00:00\u001b[0m\n",
            "\u001b[?25h  Preparing metadata (setup.py) ... \u001b[?25l\u001b[?25hdone\n",
            "Requirement already satisfied: numpy in /usr/local/lib/python3.10/dist-packages (from unstructured) (1.23.5)\n",
            "Requirement already satisfied: soupsieve>1.2 in /usr/local/lib/python3.10/dist-packages (from beautifulsoup4->unstructured) (2.5)\n",
            "Requirement already satisfied: marshmallow<4.0.0,>=3.18.0 in /usr/local/lib/python3.10/dist-packages (from dataclasses-json->unstructured) (3.20.1)\n",
            "Requirement already satisfied: typing-inspect<1,>=0.4.0 in /usr/local/lib/python3.10/dist-packages (from dataclasses-json->unstructured) (0.9.0)\n",
            "Requirement already satisfied: six in /usr/local/lib/python3.10/dist-packages (from langdetect->unstructured) (1.16.0)\n",
            "Requirement already satisfied: click in /usr/local/lib/python3.10/dist-packages (from nltk->unstructured) (8.1.7)\n",
            "Requirement already satisfied: joblib in /usr/local/lib/python3.10/dist-packages (from nltk->unstructured) (1.3.2)\n",
            "Requirement already satisfied: regex>=2021.8.3 in /usr/local/lib/python3.10/dist-packages (from nltk->unstructured) (2023.6.3)\n",
            "Requirement already satisfied: tqdm in /usr/local/lib/python3.10/dist-packages (from nltk->unstructured) (4.66.1)\n",
            "Requirement already satisfied: charset-normalizer<4,>=2 in /usr/local/lib/python3.10/dist-packages (from requests->unstructured) (3.2.0)\n",
            "Requirement already satisfied: idna<4,>=2.5 in /usr/local/lib/python3.10/dist-packages (from requests->unstructured) (3.4)\n",
            "Requirement already satisfied: urllib3<3,>=1.21.1 in /usr/local/lib/python3.10/dist-packages (from requests->unstructured) (2.0.5)\n",
            "Requirement already satisfied: certifi>=2017.4.17 in /usr/local/lib/python3.10/dist-packages (from requests->unstructured) (2023.7.22)\n",
            "Requirement already satisfied: packaging>=17.0 in /usr/local/lib/python3.10/dist-packages (from marshmallow<4.0.0,>=3.18.0->dataclasses-json->unstructured) (23.1)\n",
            "Requirement already satisfied: mypy-extensions>=0.3.0 in /usr/local/lib/python3.10/dist-packages (from typing-inspect<1,>=0.4.0->dataclasses-json->unstructured) (1.0.0)\n",
            "Requirement already satisfied: typing-extensions>=3.7.4 in /usr/local/lib/python3.10/dist-packages (from typing-inspect<1,>=0.4.0->dataclasses-json->unstructured) (4.5.0)\n",
            "Building wheels for collected packages: langdetect\n",
            "  Building wheel for langdetect (setup.py) ... \u001b[?25l\u001b[?25hdone\n",
            "  Created wheel for langdetect: filename=langdetect-1.0.9-py3-none-any.whl size=993224 sha256=4d2abae12363910621405ee675e0c2bdad4de31724184daa519f57f46b9243c8\n",
            "  Stored in directory: /root/.cache/pip/wheels/95/03/7d/59ea870c70ce4e5a370638b5462a7711ab78fba2f655d05106\n",
            "Successfully built langdetect\n",
            "Installing collected packages: filetype, python-magic, python-iso639, langdetect, emoji, unstructured\n",
            "Successfully installed emoji-2.8.0 filetype-1.2.0 langdetect-1.0.9 python-iso639-2023.6.15 python-magic-0.4.27 unstructured-0.10.18\n",
            "Collecting tiktoken\n",
            "  Downloading tiktoken-0.5.1-cp310-cp310-manylinux_2_17_x86_64.manylinux2014_x86_64.whl (2.0 MB)\n",
            "\u001b[2K     \u001b[90m━━━━━━━━━━━━━━━━━━━━━━━━━━━━━━━━━━━━━━━━\u001b[0m \u001b[32m2.0/2.0 MB\u001b[0m \u001b[31m20.6 MB/s\u001b[0m eta \u001b[36m0:00:00\u001b[0m\n",
            "\u001b[?25hRequirement already satisfied: regex>=2022.1.18 in /usr/local/lib/python3.10/dist-packages (from tiktoken) (2023.6.3)\n",
            "Requirement already satisfied: requests>=2.26.0 in /usr/local/lib/python3.10/dist-packages (from tiktoken) (2.31.0)\n",
            "Requirement already satisfied: charset-normalizer<4,>=2 in /usr/local/lib/python3.10/dist-packages (from requests>=2.26.0->tiktoken) (3.2.0)\n",
            "Requirement already satisfied: idna<4,>=2.5 in /usr/local/lib/python3.10/dist-packages (from requests>=2.26.0->tiktoken) (3.4)\n",
            "Requirement already satisfied: urllib3<3,>=1.21.1 in /usr/local/lib/python3.10/dist-packages (from requests>=2.26.0->tiktoken) (2.0.5)\n",
            "Requirement already satisfied: certifi>=2017.4.17 in /usr/local/lib/python3.10/dist-packages (from requests>=2.26.0->tiktoken) (2023.7.22)\n",
            "Installing collected packages: tiktoken\n",
            "Successfully installed tiktoken-0.5.1\n",
            "Collecting neo4j\n",
            "  Downloading neo4j-5.13.0.tar.gz (192 kB)\n",
            "\u001b[2K     \u001b[90m━━━━━━━━━━━━━━━━━━━━━━━━━━━━━━━━━━━━━━━\u001b[0m \u001b[32m192.3/192.3 kB\u001b[0m \u001b[31m3.9 MB/s\u001b[0m eta \u001b[36m0:00:00\u001b[0m\n",
            "\u001b[?25h  Installing build dependencies ... \u001b[?25l\u001b[?25hdone\n",
            "  Getting requirements to build wheel ... \u001b[?25l\u001b[?25hdone\n",
            "  Installing backend dependencies ... \u001b[?25l\u001b[?25hdone\n",
            "  Preparing metadata (pyproject.toml) ... \u001b[?25l\u001b[?25hdone\n",
            "Requirement already satisfied: pytz in /usr/local/lib/python3.10/dist-packages (from neo4j) (2023.3.post1)\n",
            "Building wheels for collected packages: neo4j\n",
            "  Building wheel for neo4j (pyproject.toml) ... \u001b[?25l\u001b[?25hdone\n",
            "  Created wheel for neo4j: filename=neo4j-5.13.0-py3-none-any.whl size=265313 sha256=3efbd51a8425cb8305cfff5b66cd663ee05d36e5e4f397ee91521792469230a9\n",
            "  Stored in directory: /root/.cache/pip/wheels/7b/1d/b6/1be3a1e9de57bc832b7fcebbbf884186d8155bb6f1cc45be99\n",
            "Successfully built neo4j\n",
            "Installing collected packages: neo4j\n",
            "Successfully installed neo4j-5.13.0\n"
          ]
        }
      ],
      "source": [
        " !pip install langchain\n",
        " !pip install faiss-cpu\n",
        " !pip install openai\n",
        " !pip install unstructured\n",
        " !pip install tiktoken\n",
        " !pip install neo4j"
      ]
    },
    {
      "cell_type": "code",
      "source": [
        "# import system dependencies\n",
        "import os\n",
        "\n",
        "# import langchain dependencies\n",
        "from langchain.chat_models import ChatOpenAI\n",
        "from langchain.chains import GraphCypherQAChain\n",
        "from langchain.graphs import Neo4jGraph"
      ],
      "metadata": {
        "id": "FMZ4EwcpFgki"
      },
      "execution_count": null,
      "outputs": []
    },
    {
      "cell_type": "code",
      "source": [
        "# set openai key\n",
        "os.environ[\"OPENAI_API_KEY\"] = \"sk-openapikey\""
      ],
      "metadata": {
        "id": "qOVxKHcNF5Ti"
      },
      "execution_count": null,
      "outputs": []
    },
    {
      "cell_type": "code",
      "source": [
        "# connect with graph database\n",
        "\n",
        "graph = Neo4jGraph(\n",
        "    url=\"neo4j+s://database.databases.neo4j.io\",\n",
        "    username=\"neo4j\",\n",
        "    password=\"password\"\n",
        ")"
      ],
      "metadata": {
        "id": "UtDpnDv2GG0j"
      },
      "execution_count": null,
      "outputs": []
    },
    {
      "cell_type": "code",
      "source": [
        "chain = GraphCypherQAChain.from_llm(\n",
        "    ChatOpenAI(temperature=0), graph=graph, verbose=True,\n",
        ")"
      ],
      "metadata": {
        "id": "Iz-5U4Y9Gv8Y"
      },
      "execution_count": null,
      "outputs": []
    },
    {
      "cell_type": "code",
      "source": [
        "chain.run(\"\"\"\n",
        "Who introduces stem cells and when?\n",
        "\"\"\")"
      ],
      "metadata": {
        "colab": {
          "base_uri": "https://localhost:8080/",
          "height": 252
        },
        "id": "qBdRfDxTHQKS",
        "outputId": "43396226-abe6-461f-e1e1-286270208a35"
      },
      "execution_count": null,
      "outputs": [
        {
          "output_type": "stream",
          "name": "stdout",
          "text": [
            "\n",
            "\n",
            "\u001b[1m> Entering new GraphCypherQAChain chain...\u001b[0m\n",
            "Generated Cypher:\n",
            "\u001b[32;1m\u001b[1;3mMATCH (a:Author)-[:WROTE]->(ar:Article)-[:HAS_SENTENCE]->(s:Sentence)-[:MENTIONS]->(e:Entity)\n",
            "WHERE e.name = 'stem cells'\n",
            "RETURN a.name, ar.title, s.text\u001b[0m\n",
            "Full Context:\n",
            "\u001b[32;1m\u001b[1;3m[{'a.name': 'Mohammadreza Ahmadi', 'ar.title': 'Tissue Engineering and Regeneration of Skin and Hair Follicle Growth From Stem Cells', 's.text': 'MSCs (multipotent mesenchymal stem cells) are discovered as residual stem cells in majority adult organs, especially adipose tissue.'}, {'a.name': 'Mohammadreza Ahmadi', 'ar.title': 'Tissue Engineering and Regeneration of Skin and Hair Follicle Growth From Stem Cells', 's.text': 'In 1961, two Canadian scientists first introduced stem cells.'}, {'a.name': 'Mohammadreza Ahmadi', 'ar.title': 'Tissue Engineering and Regeneration of Skin and Hair Follicle Growth From Stem Cells', 's.text': 'Each gram of human fat has 100 to 500 times more stem cells than bone marrow and is easier to obtain.'}, {'a.name': 'Mohammadreza Ahmadi', 'ar.title': 'Tissue Engineering and Regeneration of Skin and Hair Follicle Growth From Stem Cells', 's.text': 'In this paper, the tissue regeneration of skin and the probability of hair growth from stem cells are being investigated.'}]\u001b[0m\n",
            "\n",
            "\u001b[1m> Finished chain.\u001b[0m\n"
          ]
        },
        {
          "output_type": "execute_result",
          "data": {
            "text/plain": [
              "'In 1961, two Canadian scientists first introduced stem cells.'"
            ],
            "application/vnd.google.colaboratory.intrinsic+json": {
              "type": "string"
            }
          },
          "metadata": {},
          "execution_count": 8
        }
      ]
    },
    {
      "cell_type": "code",
      "source": [
        "chain.run(\"\"\"\n",
        "Summerize the whole information\n",
        "\"\"\")"
      ],
      "metadata": {
        "id": "rS40FVELHTKa",
        "colab": {
          "base_uri": "https://localhost:8080/",
          "height": 323
        },
        "outputId": "5939315a-ea2e-434d-abdf-8b268cb5026c"
      },
      "execution_count": null,
      "outputs": [
        {
          "output_type": "stream",
          "name": "stdout",
          "text": [
            "\n",
            "\n",
            "\u001b[1m> Entering new GraphCypherQAChain chain...\u001b[0m\n",
            "Generated Cypher:\n",
            "\u001b[32;1m\u001b[1;3mMATCH (a:Author)-[:WROTE]->(ar:Article)-[:HAS_SENTENCE]->(s:Sentence)-[:MENTIONS]->(e:Entity)\n",
            "RETURN a.name, ar.title, s.text, e.name, e.type\u001b[0m\n",
            "Full Context:\n",
            "\u001b[32;1m\u001b[1;3m[{'a.name': 'Mohammadreza Ahmadi', 'ar.title': 'Tissue Engineering and Regeneration of Skin and Hair Follicle Growth From Stem Cells', 's.text': 'There is no treatment for epidermolysis bullosa at the moment.', 'e.name': 'epidermolysis bullosa', 'e.type': 'disease'}, {'a.name': 'Mohammadreza Ahmadi', 'ar.title': 'Tissue Engineering and Regeneration of Skin and Hair Follicle Growth From Stem Cells', 's.text': 'In damaged tissue, the extracellular metric is often damaged, functionally disabled, or missing, while In healthy tissue, the ECM guides and Scaffolds are structures that include the conditions for cell retention and tissue regeneration and are used to solve this problem.', 'e.name': 'healthy tissue', 'e.type': 'cell_type'}, {'a.name': 'Mohammadreza Ahmadi', 'ar.title': 'Tissue Engineering and Regeneration of Skin and Hair Follicle Growth From Stem Cells', 's.text': 'In damaged tissue, the extracellular metric is often damaged, functionally disabled, or missing, while In healthy tissue, the ECM guides and Scaffolds are structures that include the conditions for cell retention and tissue regeneration and are used to solve this problem.', 'e.name': 'damaged', 'e.type': 'disease'}, {'a.name': 'Mohammadreza Ahmadi', 'ar.title': 'Tissue Engineering and Regeneration of Skin and Hair Follicle Growth From Stem Cells', 's.text': 'A set of trophic factors that secretome correlates to cytokines, growth factors, and chemokines that enable ADSCs to function as paracrine tools rather than cell ADSCs were also discovered in subcutaneous tissue.', 'e.name': 'ADSCs', 'e.type': 'cell_type'}, {'a.name': 'Mohammadreza Ahmadi', 'ar.title': 'Tissue Engineering and Regeneration of Skin and Hair Follicle Growth From Stem Cells', 's.text': \"The scaffold containing the mesenchymal and critical growth factors into the desired cell will, for example, activate the CD44 receptors on the skin's fibroblasts, increasing collagen output.\", 'e.name': 'CD44 receptors', 'e.type': 'gene'}, {'a.name': 'Mohammadreza Ahmadi', 'ar.title': 'Tissue Engineering and Regeneration of Skin and Hair Follicle Growth From Stem Cells', 's.text': \"The scaffold containing the mesenchymal and critical growth factors into the desired cell will, for example, activate the CD44 receptors on the skin's fibroblasts, increasing collagen output.\", 'e.name': \"skin'\", 'e.type': 'cell_type'}, {'a.name': 'Mohammadreza Ahmadi', 'ar.title': 'Tissue Engineering and Regeneration of Skin and Hair Follicle Growth From Stem Cells', 's.text': \"The scaffold containing the mesenchymal and critical growth factors into the desired cell will, for example, activate the CD44 receptors on the skin's fibroblasts, increasing collagen output.\", 'e.name': 'collagen', 'e.type': 'gene'}, {'a.name': 'Mohammadreza Ahmadi', 'ar.title': 'Tissue Engineering and Regeneration of Skin and Hair Follicle Growth From Stem Cells', 's.text': 'The many processes in which EVs are active and the elasticity in which they may affect the activity of recipient cells allows EV, a fascinating subject, to be utilized for both therapeutic and diagnostic purposes.', 'e.name': 'EVs', 'e.type': 'cell_type'}, {'a.name': 'Mohammadreza Ahmadi', 'ar.title': 'Tissue Engineering and Regeneration of Skin and Hair Follicle Growth From Stem Cells', 's.text': 'The many processes in which EVs are active and the elasticity in which they may affect the activity of recipient cells allows EV, a fascinating subject, to be utilized for both therapeutic and diagnostic purposes.', 'e.name': 'recipient cells', 'e.type': 'cell_type'}, {'a.name': 'Mohammadreza Ahmadi', 'ar.title': 'Tissue Engineering and Regeneration of Skin and Hair Follicle Growth From Stem Cells', 's.text': 'These mesenchymal stem cells are derived from bone marrow, bone, connective tissues, fats, and other tissues.', 'e.name': 'mesenchymal stem cells', 'e.type': 'cell_type'}]\u001b[0m\n",
            "\n",
            "\u001b[1m> Finished chain.\u001b[0m\n"
          ]
        },
        {
          "output_type": "execute_result",
          "data": {
            "text/plain": [
              "'The provided information discusses various aspects of tissue engineering and regeneration of skin and hair follicle growth from stem cells. It mentions that there is currently no treatment for epidermolysis bullosa, a disease. It also explains how damaged tissue lacks proper extracellular matrix (ECM) while healthy tissue utilizes ECM for cell retention and tissue regeneration. The information further highlights the role of trophic factors secreted by ADSCs (a type of cell) in tissue regeneration. It also mentions the activation of CD44 receptors on skin fibroblasts by a scaffold containing critical growth factors, leading to increased collagen production. Additionally, the information discusses the therapeutic and diagnostic potential of extracellular vesicles (EVs) and the various sources of mesenchymal stem cells.'"
            ],
            "application/vnd.google.colaboratory.intrinsic+json": {
              "type": "string"
            }
          },
          "metadata": {},
          "execution_count": 11
        }
      ]
    },
    {
      "cell_type": "code",
      "source": [
        "chain.run(\"\"\"\n",
        "Please list the most important points\n",
        "\"\"\")"
      ],
      "metadata": {
        "id": "Fwf8Es4gWok8",
        "colab": {
          "base_uri": "https://localhost:8080/",
          "height": 341
        },
        "outputId": "92a9cdfd-994e-4483-eb7f-6b81c9e4e5c7"
      },
      "execution_count": null,
      "outputs": [
        {
          "output_type": "stream",
          "name": "stdout",
          "text": [
            "\n",
            "\n",
            "\u001b[1m> Entering new GraphCypherQAChain chain...\u001b[0m\n",
            "Generated Cypher:\n",
            "\u001b[32;1m\u001b[1;3mMATCH (a:Author)-[:WROTE]->(ar:Article)-[:HAS_SENTENCE]->(s:Sentence)-[m:MENTIONS]->(e:Entity)\n",
            "RETURN a.name, ar.title, s.text, e.name, m.count\n",
            "ORDER BY m.count DESC\n",
            "LIMIT 10\u001b[0m\n",
            "Full Context:\n",
            "\u001b[32;1m\u001b[1;3m[{'a.name': 'Mohammadreza Ahmadi', 'ar.title': 'Tissue Engineering and Regeneration of Skin and Hair Follicle Growth From Stem Cells', 's.text': 'As previously stated, the stem cell condition is essential, as there is a risk of movement of the stem cell due to blood circulation and paracrine, which the stem cell will secrete and influence its environment.', 'e.name': 'stem cell', 'm.count': 3}, {'a.name': 'Mohammadreza Ahmadi', 'ar.title': 'Tissue Engineering and Regeneration of Skin and Hair Follicle Growth From Stem Cells', 's.text': 'As mentioned above, the stem cell environment is critical, and there is a possibility of stem cell movement due to the blood flow and paracrine, which the stem cell would secrete and affect its environment.', 'e.name': 'stem cell', 'm.count': 3}, {'a.name': 'Mohammadreza Ahmadi', 'ar.title': 'Tissue Engineering and Regeneration of Skin and Hair Follicle Growth From Stem Cells', 's.text': 'On the other hand, In the engineered stem cell vascular fraction (SVF), which is a pellet containing mesenchymal cells, growth factors, inflammatory cells like macrophage-monocyte and fibroblasts, the mesenchymal cells get separated from all the other components by the centrifugation process.', 'e.name': 'mesenchymal cells', 'm.count': 2}, {'a.name': 'Mohammadreza Ahmadi', 'ar.title': 'Tissue Engineering and Regeneration of Skin and Hair Follicle Growth From Stem Cells', 's.text': 'As previously stated, the stem cell condition is essential, as there is a risk of movement of the stem cell due to blood circulation and paracrine, which the stem cell will secrete and influence its environment.', 'e.name': 'stem', 'm.count': 2}, {'a.name': 'Mohammadreza Ahmadi', 'ar.title': 'Tissue Engineering and Regeneration of Skin and Hair Follicle Growth From Stem Cells', 's.text': 'Fibrous, collagen fibers and fibroblasts On one side, by injecting collagenase enzymes into the fat, all of the collagen fibers and fibroblasts can be removed, leaving just the pure mesenchymal stem cells.', 'e.name': 'collagen', 'm.count': 2}, {'a.name': 'Mohammadreza Ahmadi', 'ar.title': 'Tissue Engineering and Regeneration of Skin and Hair Follicle Growth From Stem Cells', 's.text': 'In the engineered stem cell vascular fraction (SVF), a pellet comprising mesenchymal cells, growth factors, inflammatory cells such as macrophage-monocyte, and fibroblasts, the mesenchymal cells are segregated from the other components through centrifugation.', 'e.name': 'mesenchymal cells', 'm.count': 2}, {'a.name': 'Mohammadreza Ahmadi', 'ar.title': 'Tissue Engineering and Regeneration of Skin and Hair Follicle Growth From Stem Cells', 's.text': 'A set of trophic factors that secretome correlates to cytokines, growth factors, and chemokines that enable ADSCs to function as paracrine tools rather than cell ADSCs were also discovered in subcutaneous tissue.', 'e.name': 'ADSCs', 'm.count': 2}, {'a.name': 'Mohammadreza Ahmadi', 'ar.title': 'Tissue Engineering and Regeneration of Skin and Hair Follicle Growth From Stem Cells', 's.text': 'Fibrous, collagen fibers and fibroblasts On one side, by injecting collagenase enzymes into the fat, all of the collagen fibers and fibroblasts can be removed, leaving just the pure mesenchymal stem cells.', 'e.name': 'fibroblasts', 'm.count': 2}, {'a.name': 'Mohammadreza Ahmadi', 'ar.title': 'Tissue Engineering and Regeneration of Skin and Hair Follicle Growth From Stem Cells', 's.text': \"The scaffold containing the mesenchymal and critical growth factors into the desired cell will, for example, activate the CD44 receptors on the skin's fibroblasts, increasing collagen output.\", 'e.name': 'collagen', 'm.count': 1}, {'a.name': 'Mohammadreza Ahmadi', 'ar.title': 'Tissue Engineering and Regeneration of Skin and Hair Follicle Growth From Stem Cells', 's.text': \"The scaffold containing the mesenchymal and critical growth factors into the desired cell will, for example, activate the CD44 receptors on the skin's fibroblasts, increasing collagen output.\", 'e.name': \"skin'\", 'm.count': 1}]\u001b[0m\n",
            "\n",
            "\u001b[1m> Finished chain.\u001b[0m\n"
          ]
        },
        {
          "output_type": "execute_result",
          "data": {
            "text/plain": [
              "'The most important points from the provided information are:\\n\\n1. The stem cell condition is essential, as there is a risk of movement of the stem cell due to blood circulation and paracrine effects.\\n2. In the engineered stem cell vascular fraction (SVF), mesenchymal cells are separated from other components through the centrifugation process.\\n3. Collagen fibers and fibroblasts can be removed from fat by injecting collagenase enzymes, leaving pure mesenchymal stem cells.\\n4. ADSCs (adipose-derived stem cells) function as paracrine tools rather than cell ADSCs, thanks to a set of trophic factors secreted by them.\\n5. The scaffold containing mesenchymal cells and critical growth factors can activate CD44 receptors on skin fibroblasts, increasing collagen output.'"
            ],
            "application/vnd.google.colaboratory.intrinsic+json": {
              "type": "string"
            }
          },
          "metadata": {},
          "execution_count": 10
        }
      ]
    },
    {
      "cell_type": "code",
      "source": [],
      "metadata": {
        "id": "qpPut57PpgIq"
      },
      "execution_count": null,
      "outputs": []
    }
  ]
}